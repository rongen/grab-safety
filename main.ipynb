{
 "cells": [
  {
   "cell_type": "code",
   "execution_count": 71,
   "metadata": {},
   "outputs": [],
   "source": [
    "import numpy as np\n",
    "import pandas as pd\n",
    "import os\n",
    "import glob\n",
    "import xgboost as xgb\n",
    "import pickle"
   ]
  },
  {
   "cell_type": "code",
   "execution_count": 55,
   "metadata": {},
   "outputs": [],
   "source": [
    "# load test data. change the path accordingly, from the default 'safety/features'\n",
    "# change file extension if applicable; default here is CSV\n",
    "path = r'safety/features' \n",
    "all_files = glob.glob(os.path.join(path, \"*.csv\"))\n",
    "\n",
    "df = pd.concat((pd.read_csv(f) for f in all_files))\n",
    "df.sort_values(['bookingID', 'second'], inplace=True)\n",
    "# label = pd.read_csv('safety/labels/part-00000-e9445087-aa0a-433b-a7f6-7f4c19d78ad6-c000.csv')"
   ]
  },
  {
   "cell_type": "code",
   "execution_count": 3,
   "metadata": {},
   "outputs": [],
   "source": [
    "# load the model\n",
    "bst = pickle.load(open(\"safety.pickle\", \"rb\"))"
   ]
  },
  {
   "cell_type": "code",
   "execution_count": 61,
   "metadata": {},
   "outputs": [],
   "source": [
    "# generate features for test data\n",
    "# approximate the jerk along x/y/z-axis\n",
    "df['jerk_x_pre'] = df.groupby('bookingID')['acceleration_x'].rolling(window=2).std().reset_index(0,drop=True).fillna(0)\n",
    "df['jerk_y_pre'] = df.groupby('bookingID')['acceleration_y'].rolling(window=2).std().reset_index(0,drop=True).fillna(0)\n",
    "df['jerk_z_pre'] = df.groupby('bookingID')['acceleration_z'].rolling(window=2).std().reset_index(0,drop=True).fillna(0)\n",
    "\n",
    "# since the data is not guaranteed to be second-by-second, \n",
    "# this enables the calculation of time window during which the jerk occurred\n",
    "df['elapsed_time_min'] = df.groupby('bookingID')['second'].rolling(window=2).min().reset_index(0,drop=True).fillna(-1)\n",
    "df['jerk_x'] = df['jerk_x_pre'] / (df['second'] - df['elapsed_time_min'])\n",
    "df['jerk_y'] = df['jerk_y_pre'] / (df['second'] - df['elapsed_time_min'])\n",
    "df['jerk_z'] = df['jerk_z_pre'] / (df['second'] - df['elapsed_time_min'])\n",
    "\n",
    "# calculate the max jerk along the y-axis\n",
    "df['jerk_y_max'] = df['jerk_y'].groupby(df['bookingID']).transform('max')\n",
    "\n",
    "# calculate the standard deviation of the jerk along x/y/z-axis\n",
    "df['jerk_x_std'] = df['jerk_x'].groupby(df['bookingID']).transform('std')\n",
    "df['jerk_y_std'] = df['jerk_y'].groupby(df['bookingID']).transform('std')\n",
    "df['jerk_z_std'] = df['jerk_z'].groupby(df['bookingID']).transform('std')\n",
    "\n",
    "# calculate the 95th percentile for acceleration and gyrometer along the z-axis\n",
    "df['acc_z_95'] = df['acceleration_z'].groupby(df['bookingID']).transform('quantile', [.95])\n",
    "df['gyro_z_95'] = df['gyro_z'].groupby(df['bookingID']).transform('quantile', [.95])\n",
    "\n",
    "# calculate the mean of the jerk along x/y/z-axis\n",
    "df['jerk_x_mean'] = df['jerk_x'].groupby(df['bookingID']).transform('mean')\n",
    "df['jerk_y_mean'] = df['jerk_y'].groupby(df['bookingID']).transform('mean')\n",
    "df['jerk_z_mean'] = df['jerk_z'].groupby(df['bookingID']).transform('mean')\n",
    "\n",
    "# calculate number of times that jerk along the x/y/z-axis >= 2/3/4/6 standard deviations\n",
    "df['jerk_z_std_2'] = np.where(df['jerk_z'] > (df['jerk_z_mean'] + 2 * df['jerk_z_std']), 1, 0)\n",
    "df['jerk_z_std_2_count'] = df['jerk_z_std_2'].groupby(df['bookingID']).transform('sum')\n",
    "df['jerk_z_std_3'] = np.where(df['jerk_z'] > (df['jerk_z_mean'] + 3 * df['jerk_z_std']), 1, 0)\n",
    "df['jerk_z_std_3_count'] = df['jerk_z_std_3'].groupby(df['bookingID']).transform('sum')\n",
    "df['jerk_y_std_3'] = np.where(df['jerk_y'] > (df['jerk_y_mean'] + 3 * df['jerk_y_std']), 1, 0)\n",
    "df['jerk_y_std_3_count'] = df['jerk_y_std_3'].groupby(df['bookingID']).transform('sum')\n",
    "df['jerk_y_std_4'] = np.where(df['jerk_y'] > (df['jerk_y_mean'] + 4 * df['jerk_y_std']), 1, 0)\n",
    "df['jerk_y_std_4_count'] = df['jerk_y_std_4'].groupby(df['bookingID']).transform('sum')\n",
    "df['jerk_y_std_6'] = np.where(df['jerk_y'] > (df['jerk_y_mean'] + 6 * df['jerk_y_std']), 1, 0)\n",
    "df['jerk_y_std_6_count'] = df['jerk_y_std_6'].groupby(df['bookingID']).transform('sum')\n",
    "df['jerk_x_std_2'] = np.where(df['jerk_x'] > (df['jerk_x_mean'] + 2 * df['jerk_x_std']), 1, 0)\n",
    "df['jerk_x_std_2_count'] = df['jerk_x_std_2'].groupby(df['bookingID']).transform('sum')\n",
    "df['jerk_x_std_3'] = np.where(df['jerk_x'] > (df['jerk_x_mean'] + 3 * df['jerk_x_std']), 1, 0)\n",
    "df['jerk_x_std_3_count'] = df['jerk_x_std_3'].groupby(df['bookingID']).transform('sum')\n",
    "df['jerk_x_std_4'] = np.where(df['jerk_x'] > (df['jerk_x_mean'] + 4 * df['jerk_x_std']), 1, 0)\n",
    "df['jerk_x_std_4_count'] = df['jerk_x_std_4'].groupby(df['bookingID']).transform('sum')"
   ]
  },
  {
   "cell_type": "code",
   "execution_count": 63,
   "metadata": {},
   "outputs": [],
   "source": [
    "# reduce each dataset of the same bookingID to one\n",
    "df2 = df.drop_duplicates('bookingID')\n",
    "\n",
    "# keep only the derived features\n",
    "df3 = df2[['jerk_y_std_3_count', 'jerk_y_std_4_count', 'gyro_z_95',\n",
    "          'jerk_z_std_3_count', 'jerk_z_std_2_count', 'acc_z_95', 'jerk_y_max',\n",
    "          'jerk_x_std_3_count', 'jerk_z_std', 'jerk_y_std_6_count',\n",
    "          'jerk_x_std_2_count', 'jerk_x_std_4_count']]"
   ]
  },
  {
   "cell_type": "code",
   "execution_count": 102,
   "metadata": {},
   "outputs": [],
   "source": [
    "# make predictions\n",
    "dtest = xgb.DMatrix(df3)\n",
    "ypred = bst.predict(dtest)\n",
    "\n",
    "# add a bias to correct for class imbalance during training\n",
    "predictions = [round(value + 0.38) for value in ypred]\n",
    "pred = pd.DataFrame(data=predictions, columns=['prediction'])\n",
    "\n",
    "# save predictions to CSV\n",
    "pred.to_csv('predictions.csv', index=False)"
   ]
  },
  {
   "cell_type": "code",
   "execution_count": null,
   "metadata": {},
   "outputs": [],
   "source": []
  }
 ],
 "metadata": {
  "kernelspec": {
   "display_name": "Python 3",
   "language": "python",
   "name": "python3"
  },
  "language_info": {
   "codemirror_mode": {
    "name": "ipython",
    "version": 3
   },
   "file_extension": ".py",
   "mimetype": "text/x-python",
   "name": "python",
   "nbconvert_exporter": "python",
   "pygments_lexer": "ipython3",
   "version": "3.7.3"
  }
 },
 "nbformat": 4,
 "nbformat_minor": 2
}
